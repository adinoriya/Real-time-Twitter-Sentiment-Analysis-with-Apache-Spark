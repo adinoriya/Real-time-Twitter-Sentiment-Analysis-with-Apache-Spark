{
 "cells": [
  {
   "cell_type": "markdown",
   "metadata": {},
   "source": [
    "#Twitter Sentimental Analysis using Tone Analyzer \n",
    "Loading the data\n",
    "Here, I am loading the custom library generate as part of the Twitter streaming application with Tone Analyzer service.\n",
    "The following code is using a pre-built jar has been posted on the Github project at given repository."
   ]
  },
  {
   "cell_type": "code",
   "execution_count": 1,
   "metadata": {
    "collapsed": false
   },
   "outputs": [
    {
     "name": "stdout",
     "output_type": "stream",
     "text": [
      "Starting download from https://github.com/ibm-cds-labs/spark.samples/raw/master/dist/streaming-twitter-assembly-1.2.jar\n",
      "Finished download of streaming-twitter-assembly-1.2.jar\n"
     ]
    }
   ],
   "source": [
    "%AddJar https://github.com/ibm-cds-labs/spark.samples/raw/master/dist/streaming-twitter-assembly-1.2.jar -f"
   ]
  },
  {
   "cell_type": "markdown",
   "metadata": {},
   "source": [
    "#Setting up the Twitter and Tone Analyzer credentials\n",
    "Go to the service credential tab of Tone Analyzer service to get Username and Password. Twitter credentials are described in detailed in project report."
   ]
  },
  {
   "cell_type": "code",
   "execution_count": 2,
   "metadata": {
    "collapsed": false
   },
   "outputs": [],
   "source": [
    "val demo = com.ibm.cds.spark.samples.StreamingTwitter\n",
    "demo.setConfig(\"twitter4j.oauth.consumerKey\",\"xxxxxxxxxxxxxxxxxxxxxxxxxx\")\n",
    "demo.setConfig(\"twitter4j.oauth.consumerSecret\",\"xxxxxxxxxxxxxxxxxxxxxxxxxxxxxxxxn\")\n",
    "demo.setConfig(\"twitter4j.oauth.accessToken\",\"xxxxxxxxxxxxxxxxxxxxxxxxxxxxxxxxxx\")\n",
    "demo.setConfig(\"twitter4j.oauth.accessTokenSecret\",\"xxxxxxxxxxxxxxxxxxxxxxxxxxxxxxx\")\n",
    "demo.setConfig(\"watson.tone.url\",\"https://gateway.watsonplatform.net/tone-analyzer-experimental/api\")\n",
    "demo.setConfig(\"watson.tone.password\",\"xxxxxxxxxxxxxxxx\")\n",
    "demo.setConfig(\"watson.tone.username\",\"xxxxxxxxxxxxxxxxxxxxxxxxxxxxxxxxx\")"
   ]
  },
  {
   "cell_type": "markdown",
   "metadata": {},
   "source": [
    "#Starting the Spark Stream to get live tweets by providing timeinterval\n",
    "Start a new Twitter Stream that collects the live tweets and enrich them with Sentiment Analysis scores. \n",
    "\n",
    "The stream is run for a duration specified in the second argument of the **startTwitterStreaming** method.\n",
    "\n",
    "Note: if no duration is specified then the stream will run until the **stopTwitterStreaming** method is called."
   ]
  },
  {
   "cell_type": "code",
   "execution_count": 3,
   "metadata": {
    "collapsed": false
   },
   "outputs": [
    {
     "name": "stdout",
     "output_type": "stream",
     "text": [
      "Twitter stream started\n",
      "Tweets are collected real-time and analyzed\n",
      "To stop the streaming and start interacting with the data use: StreamingTwitter.stopTwitterStreaming\n",
      "Stopping Twitter stream. Please wait this may take a while\n",
      "Twitter stream stopped\n",
      "You can now create a sqlContext and DataFrame with 606 Tweets created. Sample usage: \n",
      "val (sqlContext, df) = com.ibm.cds.spark.samples.StreamingTwitter.createTwitterDataFrames(sc)\n",
      "df.printSchema\n",
      "sqlContext.sql(\"select author, text from tweets\").show\n"
     ]
    }
   ],
   "source": [
    "import org.apache.spark.streaming._\n",
    "demo.startTwitterStreaming(sc, Seconds(60))"
   ]
  },
  {
   "cell_type": "markdown",
   "metadata": {},
   "source": [
    "#Creating a SQLContext and Dataframe with all the tweets\n",
    "Note: this method will register a SparkSQL table called tweets"
   ]
  },
  {
   "cell_type": "code",
   "execution_count": 4,
   "metadata": {
    "collapsed": false,
    "scrolled": true
   },
   "outputs": [
    {
     "name": "stdout",
     "output_type": "stream",
     "text": [
      "A new table named tweets with 606 records has been correctly created and can be accessed through the SQLContext variable\n",
      "Here's the schema for tweets\n",
      "root\n",
      " |-- author: string (nullable = true)\n",
      " |-- date: string (nullable = true)\n",
      " |-- lang: string (nullable = true)\n",
      " |-- text: string (nullable = true)\n",
      " |-- lat: double (nullable = true)\n",
      " |-- long: double (nullable = true)\n",
      " |-- Cheerfulness: double (nullable = true)\n",
      " |-- Negative: double (nullable = true)\n",
      " |-- Anger: double (nullable = true)\n",
      " |-- Analytical: double (nullable = true)\n",
      " |-- Confident: double (nullable = true)\n",
      " |-- Tentative: double (nullable = true)\n",
      " |-- Openness: double (nullable = true)\n",
      " |-- Agreeableness: double (nullable = true)\n",
      " |-- Conscientiousness: double (nullable = true)\n",
      "\n"
     ]
    }
   ],
   "source": [
    "val (sqlContext, df) = demo.createTwitterDataFrames(sc)"
   ]
  },
  {
   "cell_type": "markdown",
   "metadata": {},
   "source": [
    "#Executing a SparkSQL query to display the data, table has collected"
   ]
  },
  {
   "cell_type": "code",
   "execution_count": 5,
   "metadata": {
    "collapsed": false,
    "scrolled": false
   },
   "outputs": [],
   "source": [
    "val fullSet = sqlContext.sql(\"select * from tweets\")  //Select all columns"
   ]
  },
  {
   "cell_type": "code",
   "execution_count": 6,
   "metadata": {
    "collapsed": false
   },
   "outputs": [
    {
     "name": "stdout",
     "output_type": "stream",
     "text": [
      "+-----------------+--------------------+-----+--------------------+--------+---------+------------+--------+-----+----------+---------+---------+------------------+-------------+------------------+\n",
      "|           author|                date| lang|                text|     lat|     long|Cheerfulness|Negative|Anger|Analytical|Confident|Tentative|          Openness|Agreeableness| Conscientiousness|\n",
      "+-----------------+--------------------+-----+--------------------+--------+---------+------------+--------+-----+----------+---------+---------+------------------+-------------+------------------+\n",
      "|            Myles|Fri Dec 11 18:37:...|   en|@MadSports8 @SKar...|     0.0|      0.0|         0.0|     0.0|  0.0|       0.0|      0.0|    100.0|               9.0|          1.0| 7.000000000000001|\n",
      "|           isabel|Fri Dec 11 18:37:...|   en|@trulyoth jk my r...|     0.0|      0.0|         0.0|     0.0|  0.0|      86.0|      0.0|      0.0|               0.0|        100.0|               2.0|\n",
      "|    TTN Charlotte|Fri Dec 11 18:37:...|   en|Hit & run acciden...|35.23807|-80.79963|         0.0|     0.0|  0.0|       0.0|      0.0|      0.0|              99.0|         68.0|             100.0|\n",
      "|           stacee|Fri Dec 11 18:37:...|   en|@EloquentDust he'...|     0.0|      0.0|       100.0|     0.0|  0.0|       0.0|      0.0|      0.0|               0.0|        100.0|              68.0|\n",
      "|     ?COCOCANDY??|Fri Dec 11 18:37:...|   en|_illniggaalert2x'...|     0.0|      0.0|         0.0|     0.0|  0.0|       0.0|      0.0|      0.0|               5.0|         90.0|              68.0|\n",
      "|       Tinkerbell|Fri Dec 11 18:37:...|   en|RT @ipostlovers: ...|     0.0|      0.0|       100.0|     0.0|  0.0|       0.0|      0.0|    100.0|               0.0|         99.0|               0.0|\n",
      "|             Jayy|Fri Dec 11 18:37:...|   en|it's not even 8 a...|     0.0|      0.0|       100.0|     0.0|  0.0|       0.0|      0.0|     97.0|               0.0|        100.0|28.999999999999996|\n",
      "|        aderktesh|Fri Dec 11 18:37:...|   en|List of Slogans A...|     0.0|      0.0|         0.0|     0.0|  0.0|       0.0|      0.0|      0.0|             100.0|         11.0|              68.0|\n",
      "| Bussy The Bunny?|Fri Dec 11 18:37:...|   en|RT @KEEPINUPWITKE...|     0.0|      0.0|         0.0|   100.0|100.0|       0.0|      0.0|      0.0|               2.0|          0.0|               0.0|\n",
      "|          I S S A|Fri Dec 11 18:37:...|en-gb|RT @all1dcrew: Ke...|     0.0|      0.0|         0.0|     0.0|  0.0|       0.0|      0.0|      0.0|               2.0|        100.0|              68.0|\n",
      "|          king ni|Fri Dec 11 18:37:...|   en|@Ioveharrys i for...|     0.0|      0.0|         0.0|     0.0|  0.0|       0.0|      0.0|      0.0|               1.0|         91.0|              68.0|\n",
      "|            kstef|Fri Dec 11 18:37:...|   en|RT @fangirlsmum: ...|     0.0|      0.0|         0.0|     0.0|  0.0|       0.0|      0.0|      0.0|              97.0|          0.0|              68.0|\n",
      "|            Mikay|Fri Dec 11 18:37:...|   en|           morninggg|     0.0|      0.0|         0.0|     0.0|  0.0|       0.0|      0.0|      0.0|               0.0|        100.0|             100.0|\n",
      "|      Jose Guzman|Fri Dec 11 18:37:...|   en|RT @UnitedgamerzH...|     0.0|      0.0|         0.0|     0.0|  0.0|     100.0|      0.0|    100.0|              50.0|          0.0|               0.0|\n",
      "|     Alexandre B.|Fri Dec 11 18:37:...|   en|@thebullscharge d...|     0.0|      0.0|       100.0|     0.0|  0.0|      93.0|      0.0|      0.0|               0.0|        100.0|               1.0|\n",
      "|          ??? ? ?|Fri Dec 11 18:37:...|   en|RT @KP0PSECRETFIL...|     0.0|      0.0|         0.0|     0.0|  0.0|       0.0|      0.0|      0.0|              97.0|          0.0|              68.0|\n",
      "|  Siddhartha Unni|Fri Dec 11 18:37:...|   en|RT @shilparathnam...|     0.0|      0.0|       100.0|     0.0|  0.0|       0.0|      0.0|      0.0|              97.0|         37.0|             100.0|\n",
      "|     freakyyy_lee|Fri Dec 11 18:37:...|   en|RT @__aaakire: LM...|     0.0|      0.0|         0.0|     0.0|  0.0|       0.0|      0.0|      0.0|              97.0|          0.0|              68.0|\n",
      "|     4sitters.com|Fri Dec 11 18:37:...|   en|Panama City / Pen...|     0.0|      0.0|         0.0|     0.0|  0.0|       0.0|      0.0|      0.0|28.000000000000004|         98.0|              75.0|\n",
      "|Deborah E. Whaley|Fri Dec 11 18:37:...|   en|Black scientists ...|     0.0|      0.0|         0.0|     0.0|  0.0|      94.0|      0.0|      0.0|               2.0|         97.0|              61.0|\n",
      "+-----------------+--------------------+-----+--------------------+--------+---------+------------+--------+-----+----------+---------+---------+------------------+-------------+------------------+\n",
      "\n"
     ]
    }
   ],
   "source": [
    "fullSet.show    //to display data in fullSet"
   ]
  },
  {
   "cell_type": "markdown",
   "metadata": {},
   "source": [
    "#Persist the dataset into a parquet file on Object Storage service\n",
    "The parquet file will be reloaded here"
   ]
  },
  {
   "cell_type": "code",
   "execution_count": 7,
   "metadata": {
    "collapsed": false
   },
   "outputs": [
    {
     "name": "stdout",
     "output_type": "stream",
     "text": [
      "SLF4J: Failed to load class \"org.slf4j.impl.StaticLoggerBinder\".\n",
      "SLF4J: Defaulting to no-operation (NOP) logger implementation\n",
      "SLF4J: See http://www.slf4j.org/codes.html#StaticLoggerBinder for further details.\n"
     ]
    }
   ],
   "source": [
    "fullSet.repartition(1).saveAsParquetFile(\"swift://notebooks.spark/tweetsFull.parquet\")   //saving data into a parquet file... "
   ]
  },
  {
   "cell_type": "markdown",
   "metadata": {},
   "source": [
    "#Running SparkSQL query on the data collceted\n",
    "Lets, select all the tweets that have Anger score greated than 70%"
   ]
  },
  {
   "cell_type": "code",
   "execution_count": 8,
   "metadata": {
    "collapsed": false
   },
   "outputs": [],
   "source": [
    "val angerSet = sqlContext.sql(\"select author, text, Anger from tweets where Anger > 70\")"
   ]
  },
  {
   "cell_type": "code",
   "execution_count": 9,
   "metadata": {
    "collapsed": false
   },
   "outputs": [
    {
     "name": "stdout",
     "output_type": "stream",
     "text": [
      "40\n"
     ]
    }
   ],
   "source": [
    "println(angerSet.count)   // check count of angerSet here"
   ]
  },
  {
   "cell_type": "code",
   "execution_count": 10,
   "metadata": {
    "collapsed": false
   },
   "outputs": [
    {
     "name": "stdout",
     "output_type": "stream",
     "text": [
      "+--------------------+--------------------+-----+\n",
      "|              author|                text|Anger|\n",
      "+--------------------+--------------------+-----+\n",
      "|    Bussy The Bunny?|RT @KEEPINUPWITKE...|100.0|\n",
      "|          Bulls 74-8|RT @MachineGunnKi...|100.0|\n",
      "|               daddy|@StarsAndScars_ \n",
      "...|100.0|\n",
      "|    Fade VermaVirus |My friend got mad...|100.0|\n",
      "|     Zachary Daniels|RT @nxlix_: make ...|100.0|\n",
      "|                 BFD|Yes @celestepewte...|100.0|\n",
      "|     Jonny Pinciotti|                Shit|100.0|\n",
      "|        jolly jazmin|my dad fucking te...|100.0|\n",
      "|                Alan|@AbiRatchford GOD...|100.0|\n",
      "|            Lindsay?|Hate myself more ...|100.0|\n",
      "|     Ashley Reynolds|RT @LoveIyCouples...|100.0|\n",
      "|         Tamara King|lovepleasure0907:...|100.0|\n",
      "|           anggi_Dot|2 weekly follower...|100.0|\n",
      "|aggressive zoom blur|@tarotots arbuckl...|100.0|\n",
      "|                 Jrd|@DieErVonSatan yo...|100.0|\n",
      "|                  SB|I need all that shit|100.0|\n",
      "|              Ethan.|EVER SEEN SOMEONE...|100.0|\n",
      "|           Caaaaaas.|RT @ThomasBangalt...|100.0|\n",
      "|               carly|ARE Y'ALL FUCKING...|100.0|\n",
      "|             ?CHROM?|@RaraTrend [[ AAA...|100.0|\n",
      "+--------------------+--------------------+-----+\n",
      "\n"
     ]
    }
   ],
   "source": [
    "angerSet.show   //display all data"
   ]
  },
  {
   "cell_type": "code",
   "execution_count": null,
   "metadata": {
    "collapsed": true
   },
   "outputs": [],
   "source": []
  }
 ],
 "metadata": {
  "kernelspec": {
   "display_name": "Scala 2.10",
   "language": "scala",
   "name": "spark"
  },
  "language_info": {
   "name": "scala"
  },
  "name": "Twitter + Watson Tone Analyzer Part 1.ipynb"
 },
 "nbformat": 4,
 "nbformat_minor": 0
}